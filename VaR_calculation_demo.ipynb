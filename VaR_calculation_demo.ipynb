{
 "cells": [
  {
   "cell_type": "markdown",
   "id": "b684bb2d",
   "metadata": {},
   "source": [
    "\n",
    "# Value at Risk (VaR) - 历史模拟法演示\n",
    "\n",
    "📌 本 notebook 用于演示如何使用 Python 进行 VaR（风险价值）计算，\n",
    "以等权重的债券ETF组合为例，利用历史模拟法估算 1-day 95% 的 VaR。\n"
   ]
  },
  {
   "cell_type": "code",
   "execution_count": null,
   "id": "5378d552",
   "metadata": {},
   "outputs": [],
   "source": [
    "\n",
    "import yfinance as yf\n",
    "import pandas as pd\n",
    "import numpy as np\n",
    "import matplotlib.pyplot as plt\n",
    "\n",
    "# 设置绘图风格\n",
    "plt.style.use('seaborn-vintage')\n"
   ]
  },
  {
   "cell_type": "markdown",
   "id": "5a72f553",
   "metadata": {},
   "source": [
    "\n",
    "## 1️⃣ 设置组合成分\n",
    "\n",
    "- EMHY: iShares J.P. Morgan EM High Yield Bond ETF  \n",
    "- HYEM: VanEck EM High Yield Bond ETF  \n",
    "- EMB: iShares J.P. Morgan USD EM Bond ETF  \n",
    "- PCY: Invesco EM Sovereign Debt ETF  \n",
    "- EMLC: VanEck J.P. Morgan EM Local Currency Bond ETF\n"
   ]
  },
  {
   "cell_type": "code",
   "execution_count": null,
   "id": "28f626b1",
   "metadata": {},
   "outputs": [],
   "source": [
    "\n",
    "tickers = ['EMHY', 'HYEM', 'EMB', 'PCY', 'EMLC']\n"
   ]
  },
  {
   "cell_type": "markdown",
   "id": "3c187629",
   "metadata": {},
   "source": [
    "## 2️⃣ 下载近两年的日收盘价"
   ]
  },
  {
   "cell_type": "code",
   "execution_count": null,
   "id": "b75c60b0",
   "metadata": {},
   "outputs": [],
   "source": [
    "\n",
    "raw = yf.download(tickers, start='2022-08-01', end='2025-07-01')\n",
    "prices = raw['Close']\n",
    "prices.columns.name = None  # 移除列名多层索引，使 DataFrame 更清晰\n",
    "prices.head()\n"
   ]
  },
  {
   "cell_type": "markdown",
   "id": "f43d545f",
   "metadata": {},
   "source": [
    "## 3️⃣ 检查缺失值并处理"
   ]
  },
  {
   "cell_type": "code",
   "execution_count": null,
   "id": "b7259f8a",
   "metadata": {},
   "outputs": [],
   "source": [
    "\n",
    "if prices.isna().sum().sum() > 0:\n",
    "    print(\"⚠️ 存在缺失值，进行前向填充...\")\n",
    "    prices = prices.fillna(method='ffill')\n"
   ]
  },
  {
   "cell_type": "markdown",
   "id": "0c2bb112",
   "metadata": {},
   "source": [
    "## 4️⃣ 计算每日对数收益率"
   ]
  },
  {
   "cell_type": "code",
   "execution_count": null,
   "id": "c5464ef0",
   "metadata": {},
   "outputs": [],
   "source": [
    "\n",
    "returns = prices.pct_change().dropna()\n",
    "returns.head()\n"
   ]
  },
  {
   "cell_type": "markdown",
   "id": "0ae49961",
   "metadata": {},
   "source": [
    "## 5️⃣ 设置组合权重并计算组合收益"
   ]
  },
  {
   "cell_type": "code",
   "execution_count": null,
   "id": "ee045a46",
   "metadata": {},
   "outputs": [],
   "source": [
    "\n",
    "weights = np.array([0.2, 0.2, 0.2, 0.2, 0.2])\n",
    "portfolio_ret = returns.dot(weights)\n",
    "portfolio_ret.head()\n"
   ]
  },
  {
   "cell_type": "markdown",
   "id": "5f114de6",
   "metadata": {},
   "source": [
    "## 6️⃣ 使用历史模拟法计算 VaR"
   ]
  },
  {
   "cell_type": "code",
   "execution_count": null,
   "id": "69f7b405",
   "metadata": {},
   "outputs": [],
   "source": [
    "\n",
    "confidence = 0.95\n",
    "var_95 = np.percentile(portfolio_ret, (1 - confidence) * 100)\n",
    "\n",
    "portfolio_value = 10_000_000  # 示例：1000 万美元\n",
    "dollar_var = portfolio_value * var_95\n",
    "\n",
    "print(f\"\\n📉 1-day 95% VaR (历史模拟法): {var_95:.4%}\")\n",
    "print(f\"💰 名义 VaR（对应 1000 万美元组合）: ${dollar_var:,.0f}\\n\")\n"
   ]
  },
  {
   "cell_type": "markdown",
   "id": "6d3d9b5e",
   "metadata": {},
   "source": [
    "## 7️⃣ 可视化：每日收益率分布与 VaR"
   ]
  },
  {
   "cell_type": "code",
   "execution_count": null,
   "id": "01a15f1f",
   "metadata": {},
   "outputs": [],
   "source": [
    "\n",
    "plt.figure(figsize=(10,6))\n",
    "plt.hist(portfolio_ret, bins=60, color='steelblue', alpha=0.7)\n",
    "plt.axvline(var_95, color='red', linestyle='--', label=f'VaR 95% = {var_95:.2%}')\n",
    "plt.title('📊 Portfolio Daily Return Distribution & VaR', fontsize=14)\n",
    "plt.xlabel('Daily Return')\n",
    "plt.ylabel('Frequency')\n",
    "plt.legend()\n",
    "plt.grid(True)\n",
    "plt.tight_layout()\n",
    "plt.show()\n"
   ]
  }
 ],
 "metadata": {},
 "nbformat": 4,
 "nbformat_minor": 5
}