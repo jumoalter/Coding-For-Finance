{
 "cells": [
  {
   "cell_type": "markdown",
   "id": "b684bb2d",
   "metadata": {},
   "source": [
    "\n",
    "# Value at Risk (VaR) - 历史模拟法演示\n",
    "\n",
    "📌 本 notebook 用于演示如何使用 Python 进行 VaR（风险价值）计算，\n",
    "以等权重的债券ETF组合为例，利用历史模拟法估算 1-day 95% 的 VaR。\n"
   ]
  },
  {
   "cell_type": "code",
   "execution_count": 188,
   "id": "5378d552",
   "metadata": {},
   "outputs": [],
   "source": [
    "import yfinance as yf\n",
    "import pandas as pd\n",
    "import numpy as np\n",
    "import matplotlib.pyplot as plt\n",
    "import warnings\n",
    "warnings.simplefilter(action='ignore', category=FutureWarning)"
   ]
  },
  {
   "cell_type": "markdown",
   "id": "5a72f553",
   "metadata": {},
   "source": [
    "\n",
    "## 1️⃣ 设置组合成分\n",
    "\n",
    "- EMHY: iShares J.P. Morgan EM High Yield Bond ETF  \n",
    "- HYEM: VanEck EM High Yield Bond ETF  \n",
    "- EMB: iShares J.P. Morgan USD EM Bond ETF  \n",
    "- PCY: Invesco EM Sovereign Debt ETF  \n",
    "- EMLC: VanEck J.P. Morgan EM Local Currency Bond ETF\n"
   ]
  },
  {
   "cell_type": "code",
   "execution_count": 190,
   "id": "28f626b1",
   "metadata": {},
   "outputs": [],
   "source": [
    "tickers = ['EMHY', 'HYEM', 'EMB', 'PCY', 'EMLC']"
   ]
  },
  {
   "cell_type": "markdown",
   "id": "3c187629",
   "metadata": {},
   "source": [
    "## 2️⃣ 下载近三年的日收盘价"
   ]
  },
  {
   "cell_type": "code",
   "execution_count": 192,
   "id": "b75c60b0",
   "metadata": {},
   "outputs": [
    {
     "data": {
      "text/html": [
       "<div>\n",
       "<style scoped>\n",
       "    .dataframe tbody tr th:only-of-type {\n",
       "        vertical-align: middle;\n",
       "    }\n",
       "\n",
       "    .dataframe tbody tr th {\n",
       "        vertical-align: top;\n",
       "    }\n",
       "\n",
       "    .dataframe thead th {\n",
       "        text-align: right;\n",
       "    }\n",
       "</style>\n",
       "<table border=\"1\" class=\"dataframe\">\n",
       "  <thead>\n",
       "    <tr style=\"text-align: right;\">\n",
       "      <th></th>\n",
       "      <th>EMB</th>\n",
       "      <th>EMHY</th>\n",
       "      <th>EMLC</th>\n",
       "      <th>HYEM</th>\n",
       "      <th>PCY</th>\n",
       "    </tr>\n",
       "    <tr>\n",
       "      <th>Date</th>\n",
       "      <th></th>\n",
       "      <th></th>\n",
       "      <th></th>\n",
       "      <th></th>\n",
       "      <th></th>\n",
       "    </tr>\n",
       "  </thead>\n",
       "  <tbody>\n",
       "    <tr>\n",
       "      <th>2022-08-01</th>\n",
       "      <td>75.716820</td>\n",
       "      <td>28.709200</td>\n",
       "      <td>20.372950</td>\n",
       "      <td>14.689295</td>\n",
       "      <td>15.928358</td>\n",
       "    </tr>\n",
       "    <tr>\n",
       "      <th>2022-08-02</th>\n",
       "      <td>74.616356</td>\n",
       "      <td>28.389482</td>\n",
       "      <td>20.130426</td>\n",
       "      <td>14.515113</td>\n",
       "      <td>15.666430</td>\n",
       "    </tr>\n",
       "    <tr>\n",
       "      <th>2022-08-03</th>\n",
       "      <td>76.052124</td>\n",
       "      <td>28.873152</td>\n",
       "      <td>20.339500</td>\n",
       "      <td>14.730770</td>\n",
       "      <td>16.018394</td>\n",
       "    </tr>\n",
       "    <tr>\n",
       "      <th>2022-08-04</th>\n",
       "      <td>76.215485</td>\n",
       "      <td>28.946945</td>\n",
       "      <td>20.464951</td>\n",
       "      <td>14.714176</td>\n",
       "      <td>16.018394</td>\n",
       "    </tr>\n",
       "    <tr>\n",
       "      <th>2022-08-05</th>\n",
       "      <td>76.060715</td>\n",
       "      <td>28.971525</td>\n",
       "      <td>20.331142</td>\n",
       "      <td>14.722476</td>\n",
       "      <td>16.010201</td>\n",
       "    </tr>\n",
       "  </tbody>\n",
       "</table>\n",
       "</div>"
      ],
      "text/plain": [
       "                  EMB       EMHY       EMLC       HYEM        PCY\n",
       "Date                                                             \n",
       "2022-08-01  75.716820  28.709200  20.372950  14.689295  15.928358\n",
       "2022-08-02  74.616356  28.389482  20.130426  14.515113  15.666430\n",
       "2022-08-03  76.052124  28.873152  20.339500  14.730770  16.018394\n",
       "2022-08-04  76.215485  28.946945  20.464951  14.714176  16.018394\n",
       "2022-08-05  76.060715  28.971525  20.331142  14.722476  16.010201"
      ]
     },
     "execution_count": 192,
     "metadata": {},
     "output_type": "execute_result"
    }
   ],
   "source": [
    "raw = yf.download(tickers, start='2022-08-01', end='2025-07-01', progress=False)\n",
    "prices = raw['Close']\n",
    "prices.columns.name = None  # 移除列名多层索引，使 DataFrame 更清晰\n",
    "prices.head()"
   ]
  },
  {
   "cell_type": "markdown",
   "id": "f43d545f",
   "metadata": {},
   "source": [
    "## 3️⃣ 检查缺失值并处理"
   ]
  },
  {
   "cell_type": "code",
   "execution_count": 194,
   "id": "b7259f8a",
   "metadata": {},
   "outputs": [],
   "source": [
    "if prices.isna().sum().sum() > 0:\n",
    "    print(\"⚠️ 存在缺失值，进行前向填充...\")\n",
    "    prices = prices.fillna(method='ffill')"
   ]
  },
  {
   "cell_type": "markdown",
   "id": "0c2bb112",
   "metadata": {},
   "source": [
    "## 4️⃣ 计算每日对数收益率"
   ]
  },
  {
   "cell_type": "code",
   "execution_count": 196,
   "id": "c5464ef0",
   "metadata": {},
   "outputs": [
    {
     "data": {
      "text/html": [
       "<div>\n",
       "<style scoped>\n",
       "    .dataframe tbody tr th:only-of-type {\n",
       "        vertical-align: middle;\n",
       "    }\n",
       "\n",
       "    .dataframe tbody tr th {\n",
       "        vertical-align: top;\n",
       "    }\n",
       "\n",
       "    .dataframe thead th {\n",
       "        text-align: right;\n",
       "    }\n",
       "</style>\n",
       "<table border=\"1\" class=\"dataframe\">\n",
       "  <thead>\n",
       "    <tr style=\"text-align: right;\">\n",
       "      <th></th>\n",
       "      <th>EMB</th>\n",
       "      <th>EMHY</th>\n",
       "      <th>EMLC</th>\n",
       "      <th>HYEM</th>\n",
       "      <th>PCY</th>\n",
       "    </tr>\n",
       "    <tr>\n",
       "      <th>Date</th>\n",
       "      <th></th>\n",
       "      <th></th>\n",
       "      <th></th>\n",
       "      <th></th>\n",
       "      <th></th>\n",
       "    </tr>\n",
       "  </thead>\n",
       "  <tbody>\n",
       "    <tr>\n",
       "      <th>2022-08-02</th>\n",
       "      <td>-0.014534</td>\n",
       "      <td>-0.011136</td>\n",
       "      <td>-0.011904</td>\n",
       "      <td>-0.011858</td>\n",
       "      <td>-0.016444</td>\n",
       "    </tr>\n",
       "    <tr>\n",
       "      <th>2022-08-03</th>\n",
       "      <td>0.019242</td>\n",
       "      <td>0.017037</td>\n",
       "      <td>0.010386</td>\n",
       "      <td>0.014857</td>\n",
       "      <td>0.022466</td>\n",
       "    </tr>\n",
       "    <tr>\n",
       "      <th>2022-08-04</th>\n",
       "      <td>0.002148</td>\n",
       "      <td>0.002556</td>\n",
       "      <td>0.006168</td>\n",
       "      <td>-0.001126</td>\n",
       "      <td>0.000000</td>\n",
       "    </tr>\n",
       "    <tr>\n",
       "      <th>2022-08-05</th>\n",
       "      <td>-0.002031</td>\n",
       "      <td>0.000849</td>\n",
       "      <td>-0.006538</td>\n",
       "      <td>0.000564</td>\n",
       "      <td>-0.000512</td>\n",
       "    </tr>\n",
       "    <tr>\n",
       "      <th>2022-08-08</th>\n",
       "      <td>0.014807</td>\n",
       "      <td>0.015564</td>\n",
       "      <td>0.006993</td>\n",
       "      <td>0.006760</td>\n",
       "      <td>0.017383</td>\n",
       "    </tr>\n",
       "  </tbody>\n",
       "</table>\n",
       "</div>"
      ],
      "text/plain": [
       "                 EMB      EMHY      EMLC      HYEM       PCY\n",
       "Date                                                        \n",
       "2022-08-02 -0.014534 -0.011136 -0.011904 -0.011858 -0.016444\n",
       "2022-08-03  0.019242  0.017037  0.010386  0.014857  0.022466\n",
       "2022-08-04  0.002148  0.002556  0.006168 -0.001126  0.000000\n",
       "2022-08-05 -0.002031  0.000849 -0.006538  0.000564 -0.000512\n",
       "2022-08-08  0.014807  0.015564  0.006993  0.006760  0.017383"
      ]
     },
     "execution_count": 196,
     "metadata": {},
     "output_type": "execute_result"
    }
   ],
   "source": [
    "returns = prices.pct_change().dropna()\n",
    "returns.head()"
   ]
  },
  {
   "cell_type": "markdown",
   "id": "0ae49961",
   "metadata": {},
   "source": [
    "## 5️⃣ 设置组合权重并计算组合收益"
   ]
  },
  {
   "cell_type": "code",
   "execution_count": 198,
   "id": "ee045a46",
   "metadata": {},
   "outputs": [
    {
     "data": {
      "text/plain": [
       "Date\n",
       "2022-08-02   -0.013175\n",
       "2022-08-03    0.016798\n",
       "2022-08-04    0.001949\n",
       "2022-08-05   -0.001533\n",
       "2022-08-08    0.012301\n",
       "dtype: float64"
      ]
     },
     "execution_count": 198,
     "metadata": {},
     "output_type": "execute_result"
    }
   ],
   "source": [
    "weights = np.array([0.2, 0.2, 0.2, 0.2, 0.2])\n",
    "portfolio_ret = returns.dot(weights)\n",
    "portfolio_ret.head()"
   ]
  },
  {
   "cell_type": "markdown",
   "id": "5f114de6",
   "metadata": {},
   "source": [
    "## 6️⃣ 使用历史模拟法计算 VaR"
   ]
  },
  {
   "cell_type": "code",
   "execution_count": 200,
   "id": "69f7b405",
   "metadata": {},
   "outputs": [
    {
     "name": "stdout",
     "output_type": "stream",
     "text": [
      "\n",
      "📉 1-day 95% VaR (历史模拟法): -0.8923%\n",
      "💰 名义 VaR（对应 1000 万美元组合）: $-89,226\n",
      "\n"
     ]
    }
   ],
   "source": [
    "confidence = 0.95\n",
    "var_95 = np.percentile(portfolio_ret, (1 - confidence) * 100)\n",
    "\n",
    "portfolio_value = 10_000_000  # 示例：1000 万美元\n",
    "dollar_var = portfolio_value * var_95\n",
    "\n",
    "print(f\"\\n📉 1-day 95% VaR (历史模拟法): {var_95:.4%}\")\n",
    "print(f\"💰 名义 VaR（对应 1000 万美元组合）: ${dollar_var:,.0f}\\n\")"
   ]
  },
  {
   "cell_type": "markdown",
   "id": "6d3d9b5e",
   "metadata": {},
   "source": [
    "## 7️⃣ 可视化：每日收益率分布与 VaR"
   ]
  },
  {
   "cell_type": "code",
   "execution_count": 202,
   "id": "01a15f1f",
   "metadata": {},
   "outputs": [
    {
     "data": {
      "image/png": "[encoded data removed]",
      "text/plain": [
       "<Figure size 1000x600 with 1 Axes>"
      ]
     },
     "metadata": {},
     "output_type": "display_data"
    }
   ],
   "source": [
    "plt.figure(figsize=(10,6))\n",
    "plt.hist(portfolio_ret, bins=60, color='steelblue', alpha=0.7)\n",
    "plt.axvline(var_95, color='red', linestyle='--', label=f'VaR 95% = {var_95:.2%}')\n",
    "plt.title('Portfolio Daily Return Distribution & VaR', fontsize=14)\n",
    "plt.xlabel('Daily Return')\n",
    "plt.ylabel('Frequency')\n",
    "plt.legend()\n",
    "plt.grid(True)\n",
    "plt.tight_layout()\n",
    "plt.show()"
   ]
  }
 ],
 "metadata": {
  "kernelspec": {
   "display_name": "Python [conda env:base] *",
   "language": "python",
   "name": "conda-base-py"
  },
  "language_info": {
   "codemirror_mode": {
    "name": "ipython",
    "version": 3
   },
   "file_extension": ".py",
   "mimetype": "text/x-python",
   "name": "python",
   "nbconvert_exporter": "python",
   "pygments_lexer": "ipython3",
   "version": "3.12.7"
  }
 },
 "nbformat": 4,
 "nbformat_minor": 5
}
